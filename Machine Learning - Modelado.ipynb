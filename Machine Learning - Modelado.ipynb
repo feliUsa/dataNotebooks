{
 "cells": [
  {
   "cell_type": "markdown",
   "metadata": {
    "id": "I10mObDHT5wZ"
   },
   "source": [
    "# Machine Learning\n",
    "\n",
    "# Autor: Daniel Oviedo",
    "Other autors: Daniela Pinzon, Miguel"
   ]
  },
  {
   "cell_type": "code",
   "execution_count": null,
   "metadata": {
    "id": "X7iNAAgzetQe"
   },
   "outputs": [],
   "source": [
    "import sys\n",
    "# Version minima de sistema python 3.7\n",
    "assert sys.version_info >= (3,7)"
   ]
  },
  {
   "cell_type": "code",
   "execution_count": null,
   "metadata": {
    "id": "XAtDNkcNevbY"
   },
   "outputs": [],
   "source": [
    "from packaging import version\n",
    "import sklearn\n",
    "# Especificacion de version minima de la libreria a manipulacion\n",
    "assert version.parse(sklearn.__version__) >= version.parse ('1.0.1')"
   ]
  },
  {
   "cell_type": "markdown",
   "metadata": {
    "id": "davE87MTVHGO"
   },
   "source": [
    "# ___Punto 2 : Cargue y exploración del dataset___\n",
    "---\n"
   ]
  },
  {
   "cell_type": "markdown",
   "metadata": {
    "id": "6uiWuqmwWvQ3"
   },
   "source": [
    "## ___DataFrames___\n",
    "---\n",
    ">* Cree un script para cargar el archivo mnist_data.npz. El archivo contiene tres campos:\n",
    ">* ___training data___, las características del conjunto de entrenamiento. Las filas son puntos de muestra\n",
    "y las columnas son características\n",
    ">* ___training labels___, Las filas son puntos de muestra. Hay una columna: las etiquetas correspondientes\n",
    "a las filas de datos de entrenamiento anteriores.\n",
    ">* ___test data___, the test set features. Las filas son puntos de muestra y las columnas son características"
   ]
  },
  {
   "cell_type": "code",
   "execution_count": null,
   "metadata": {
    "colab": {
     "base_uri": "https://localhost:8080/"
    },
    "id": "vTHN2J12coRN",
    "outputId": "14c46f84-5755-478d-afe4-9cc17b9e218c"
   },
   "outputs": [
    {
     "name": "stdout",
     "output_type": "stream",
     "text": [
      "Requirement already satisfied: requests in /usr/local/lib/python3.10/dist-packages (2.31.0)\n",
      "Requirement already satisfied: rarfile in /usr/local/lib/python3.10/dist-packages (4.2)\n",
      "Requirement already satisfied: numpy in /usr/local/lib/python3.10/dist-packages (1.25.2)\n",
      "Requirement already satisfied: charset-normalizer<4,>=2 in /usr/local/lib/python3.10/dist-packages (from requests) (3.3.2)\n",
      "Requirement already satisfied: idna<4,>=2.5 in /usr/local/lib/python3.10/dist-packages (from requests) (3.7)\n",
      "Requirement already satisfied: urllib3<3,>=1.21.1 in /usr/local/lib/python3.10/dist-packages (from requests) (2.0.7)\n",
      "Requirement already satisfied: certifi>=2017.4.17 in /usr/local/lib/python3.10/dist-packages (from requests) (2024.2.2)\n"
     ]
    }
   ],
   "source": [
    "!pip install requests rarfile numpy"
   ]
  },
  {
   "cell_type": "code",
   "execution_count": null,
   "metadata": {
    "id": "SR0aXLz3T12f"
   },
   "outputs": [],
   "source": [
    "import os\n",
    "import rarfile\n",
    "import requests\n",
    "import numpy as np\n",
    "import pandas as pd\n",
    "import matplotlib.pyplot as plt\n",
    "from sklearn.svm import SVC\n",
    "from sklearn.metrics import accuracy_score"
   ]
  },
  {
   "cell_type": "code",
   "execution_count": null,
   "metadata": {
    "id": "fi_PSu4Tcl53"
   },
   "outputs": [],
   "source": [
    "def load_mnist_data(url, temp_dir='temp_data'):\n",
    "    \"\"\"\n",
    "    Descarga un archivo RAR desde la URL dada, descomprime para extraer un archivo NPZ,\n",
    "    y carga los datos del conjunto de MNIST en DataFrames de Pandas.\n",
    "\n",
    "    Parámetros:\n",
    "    - url: URL del archivo .rar que contiene el archivo .npz.\n",
    "    - temp_dir: Directorio temporal para almacenar los archivos descargados y descomprimidos.\n",
    "\n",
    "    Retorna:\n",
    "    - Un diccionario con los DataFrames 'df_training_data', 'df_training_labels', y 'df_test_data',\n",
    "      o None si el archivo no se puede cargar.\n",
    "    \"\"\"\n",
    "\n",
    "    # Asegurarse de que el directorio temporal exista\n",
    "    if not os.path.exists(temp_dir):\n",
    "        os.makedirs(temp_dir)\n",
    "\n",
    "    # Ruta del archivo RAR descargado\n",
    "    rar_path = os.path.join(temp_dir, 'mnist-data.rar')\n",
    "\n",
    "    # Descargar el archivo RAR\n",
    "    print(\"Descargando el archivo...\")\n",
    "    response = requests.get(url)\n",
    "    with open(rar_path, 'wb') as file:\n",
    "        file.write(response.content)\n",
    "\n",
    "    # Extraer y verificar el contenido del archivo RAR\n",
    "    try:\n",
    "        with rarfile.RarFile(rar_path) as rf:\n",
    "            rf.extractall(path=temp_dir)\n",
    "            print(\"Archivos contenidos en el RAR:\", rf.namelist())\n",
    "    except rarfile.Error as e:\n",
    "        print(\"Error al descomprimir el archivo RAR:\", e)\n",
    "        return None\n",
    "\n",
    "    # Suponiendo que el archivo se llama 'mnist_data.npz'\n",
    "    npz_path = os.path.join(temp_dir, 'mnist-data.npz')\n",
    "\n",
    "    # Cargar los datos si el archivo NPZ existe\n",
    "    if os.path.exists(npz_path):\n",
    "        with np.load(npz_path) as data:\n",
    "            # Aplanar las imágenes y crear DataFrames\n",
    "            df_training_data = pd.DataFrame(data['training_data'].reshape(data['training_data'].shape[0], -1))\n",
    "            df_training_labels = pd.DataFrame(data['training_labels'], columns=['Label'])\n",
    "            df_test_data = pd.DataFrame(data['test_data'].reshape(data['test_data'].shape[0], -1))\n",
    "\n",
    "        print(\"Datos cargados exitosamente en DataFrames.\")\n",
    "        return {\n",
    "            'df_training_data': df_training_data,\n",
    "            'df_training_labels': df_training_labels,\n",
    "            'df_test_data': df_test_data\n",
    "        }\n",
    "    else:\n",
    "        print(f\"El archivo {npz_path} no se encontró después de descomprimir.\")\n",
    "        return None"
   ]
  },
  {
   "cell_type": "code",
   "execution_count": null,
   "metadata": {
    "colab": {
     "base_uri": "https://localhost:8080/"
    },
    "id": "KtwfC3XTdxc0",
    "outputId": "8a24384c-2ac9-4862-ec5e-8c93aea5b024"
   },
   "outputs": [
    {
     "name": "stdout",
     "output_type": "stream",
     "text": [
      "Descargando el archivo...\n",
      "Archivos contenidos en el RAR: ['mnist-data.npz']\n",
      "Datos cargados exitosamente en DataFrames.\n",
      "Training Data Shape: (60000, 784)\n",
      "Training Labels Shape: (60000, 1)\n",
      "Test Data Shape: (10000, 784)\n"
     ]
    }
   ],
   "source": [
    "url = 'https://github.com/daniela1612022/Parcial_Machine_Learning/raw/main/mnist-data.rar'\n",
    "data = load_mnist_data(url)\n",
    "\n",
    "if data:\n",
    "    df_training_data = data['df_training_data']\n",
    "    df_training_labels = data['df_training_labels']\n",
    "    df_test_data = data['df_test_data']\n",
    "\n",
    "    # Ahora puedes usar df_training_data y otros DataFrames\n",
    "    print(\"Training Data Shape:\", df_training_data.shape)\n",
    "    print(\"Training Labels Shape:\", df_training_labels.shape)\n",
    "    print(\"Test Data Shape:\", df_test_data.shape)\n",
    "else:\n",
    "    print(\"Los datos no se pudieron cargar o procesar correctamente.\")"
   ]
  },
  {
   "cell_type": "code",
   "execution_count": null,
   "metadata": {
    "colab": {
     "base_uri": "https://localhost:8080/",
     "height": 235
    },
    "id": "WxV5t7lOhsj9",
    "outputId": "285278e2-a67a-42d1-b64e-ac4bc84090a6"
   },
   "outputs": [
    {
     "data": {
      "application/vnd.google.colaboratory.intrinsic+json": {
       "type": "dataframe",
       "variable_name": "df_training_data"
      },
      "text/html": [
       "\n",
       "  <div id=\"df-5d9f9509-9c5f-4d59-bb69-3f950ab3cd45\" class=\"colab-df-container\">\n",
       "    <div>\n",
       "<style scoped>\n",
       "    .dataframe tbody tr th:only-of-type {\n",
       "        vertical-align: middle;\n",
       "    }\n",
       "\n",
       "    .dataframe tbody tr th {\n",
       "        vertical-align: top;\n",
       "    }\n",
       "\n",
       "    .dataframe thead th {\n",
       "        text-align: right;\n",
       "    }\n",
       "</style>\n",
       "<table border=\"1\" class=\"dataframe\">\n",
       "  <thead>\n",
       "    <tr style=\"text-align: right;\">\n",
       "      <th></th>\n",
       "      <th>0</th>\n",
       "      <th>1</th>\n",
       "      <th>2</th>\n",
       "      <th>3</th>\n",
       "      <th>4</th>\n",
       "      <th>5</th>\n",
       "      <th>6</th>\n",
       "      <th>7</th>\n",
       "      <th>8</th>\n",
       "      <th>9</th>\n",
       "      <th>...</th>\n",
       "      <th>774</th>\n",
       "      <th>775</th>\n",
       "      <th>776</th>\n",
       "      <th>777</th>\n",
       "      <th>778</th>\n",
       "      <th>779</th>\n",
       "      <th>780</th>\n",
       "      <th>781</th>\n",
       "      <th>782</th>\n",
       "      <th>783</th>\n",
       "    </tr>\n",
       "  </thead>\n",
       "  <tbody>\n",
       "    <tr>\n",
       "      <th>0</th>\n",
       "      <td>0.0</td>\n",
       "      <td>0.0</td>\n",
       "      <td>0.0</td>\n",
       "      <td>0.0</td>\n",
       "      <td>0.0</td>\n",
       "      <td>0.0</td>\n",
       "      <td>0.0</td>\n",
       "      <td>0.0</td>\n",
       "      <td>0.0</td>\n",
       "      <td>0.0</td>\n",
       "      <td>...</td>\n",
       "      <td>0.0</td>\n",
       "      <td>0.0</td>\n",
       "      <td>0.0</td>\n",
       "      <td>0.0</td>\n",
       "      <td>0.0</td>\n",
       "      <td>0.0</td>\n",
       "      <td>0.0</td>\n",
       "      <td>0.0</td>\n",
       "      <td>0.0</td>\n",
       "      <td>0.0</td>\n",
       "    </tr>\n",
       "    <tr>\n",
       "      <th>1</th>\n",
       "      <td>0.0</td>\n",
       "      <td>0.0</td>\n",
       "      <td>0.0</td>\n",
       "      <td>0.0</td>\n",
       "      <td>0.0</td>\n",
       "      <td>0.0</td>\n",
       "      <td>0.0</td>\n",
       "      <td>0.0</td>\n",
       "      <td>0.0</td>\n",
       "      <td>0.0</td>\n",
       "      <td>...</td>\n",
       "      <td>0.0</td>\n",
       "      <td>0.0</td>\n",
       "      <td>0.0</td>\n",
       "      <td>0.0</td>\n",
       "      <td>0.0</td>\n",
       "      <td>0.0</td>\n",
       "      <td>0.0</td>\n",
       "      <td>0.0</td>\n",
       "      <td>0.0</td>\n",
       "      <td>0.0</td>\n",
       "    </tr>\n",
       "    <tr>\n",
       "      <th>2</th>\n",
       "      <td>0.0</td>\n",
       "      <td>0.0</td>\n",
       "      <td>0.0</td>\n",
       "      <td>0.0</td>\n",
       "      <td>0.0</td>\n",
       "      <td>0.0</td>\n",
       "      <td>0.0</td>\n",
       "      <td>0.0</td>\n",
       "      <td>0.0</td>\n",
       "      <td>0.0</td>\n",
       "      <td>...</td>\n",
       "      <td>0.0</td>\n",
       "      <td>0.0</td>\n",
       "      <td>0.0</td>\n",
       "      <td>0.0</td>\n",
       "      <td>0.0</td>\n",
       "      <td>0.0</td>\n",
       "      <td>0.0</td>\n",
       "      <td>0.0</td>\n",
       "      <td>0.0</td>\n",
       "      <td>0.0</td>\n",
       "    </tr>\n",
       "    <tr>\n",
       "      <th>3</th>\n",
       "      <td>0.0</td>\n",
       "      <td>0.0</td>\n",
       "      <td>0.0</td>\n",
       "      <td>0.0</td>\n",
       "      <td>0.0</td>\n",
       "      <td>0.0</td>\n",
       "      <td>0.0</td>\n",
       "      <td>0.0</td>\n",
       "      <td>0.0</td>\n",
       "      <td>0.0</td>\n",
       "      <td>...</td>\n",
       "      <td>0.0</td>\n",
       "      <td>0.0</td>\n",
       "      <td>0.0</td>\n",
       "      <td>0.0</td>\n",
       "      <td>0.0</td>\n",
       "      <td>0.0</td>\n",
       "      <td>0.0</td>\n",
       "      <td>0.0</td>\n",
       "      <td>0.0</td>\n",
       "      <td>0.0</td>\n",
       "    </tr>\n",
       "    <tr>\n",
       "      <th>4</th>\n",
       "      <td>0.0</td>\n",
       "      <td>0.0</td>\n",
       "      <td>0.0</td>\n",
       "      <td>0.0</td>\n",
       "      <td>0.0</td>\n",
       "      <td>0.0</td>\n",
       "      <td>0.0</td>\n",
       "      <td>0.0</td>\n",
       "      <td>0.0</td>\n",
       "      <td>0.0</td>\n",
       "      <td>...</td>\n",
       "      <td>0.0</td>\n",
       "      <td>0.0</td>\n",
       "      <td>0.0</td>\n",
       "      <td>0.0</td>\n",
       "      <td>0.0</td>\n",
       "      <td>0.0</td>\n",
       "      <td>0.0</td>\n",
       "      <td>0.0</td>\n",
       "      <td>0.0</td>\n",
       "      <td>0.0</td>\n",
       "    </tr>\n",
       "  </tbody>\n",
       "</table>\n",
       "<p>5 rows × 784 columns</p>\n",
       "</div>\n",
       "    <div class=\"colab-df-buttons\">\n",
       "\n",
       "  <div class=\"colab-df-container\">\n",
       "    <button class=\"colab-df-convert\" onclick=\"convertToInteractive('df-5d9f9509-9c5f-4d59-bb69-3f950ab3cd45')\"\n",
       "            title=\"Convert this dataframe to an interactive table.\"\n",
       "            style=\"display:none;\">\n",
       "\n",
       "  <svg xmlns=\"http://www.w3.org/2000/svg\" height=\"24px\" viewBox=\"0 -960 960 960\">\n",
       "    <path d=\"M120-120v-720h720v720H120Zm60-500h600v-160H180v160Zm220 220h160v-160H400v160Zm0 220h160v-160H400v160ZM180-400h160v-160H180v160Zm440 0h160v-160H620v160ZM180-180h160v-160H180v160Zm440 0h160v-160H620v160Z\"/>\n",
       "  </svg>\n",
       "    </button>\n",
       "\n",
       "  <style>\n",
       "    .colab-df-container {\n",
       "      display:flex;\n",
       "      gap: 12px;\n",
       "    }\n",
       "\n",
       "    .colab-df-convert {\n",
       "      background-color: #E8F0FE;\n",
       "      border: none;\n",
       "      border-radius: 50%;\n",
       "      cursor: pointer;\n",
       "      display: none;\n",
       "      fill: #1967D2;\n",
       "      height: 32px;\n",
       "      padding: 0 0 0 0;\n",
       "      width: 32px;\n",
       "    }\n",
       "\n",
       "    .colab-df-convert:hover {\n",
       "      background-color: #E2EBFA;\n",
       "      box-shadow: 0px 1px 2px rgba(60, 64, 67, 0.3), 0px 1px 3px 1px rgba(60, 64, 67, 0.15);\n",
       "      fill: #174EA6;\n",
       "    }\n",
       "\n",
       "    .colab-df-buttons div {\n",
       "      margin-bottom: 4px;\n",
       "    }\n",
       "\n",
       "    [theme=dark] .colab-df-convert {\n",
       "      background-color: #3B4455;\n",
       "      fill: #D2E3FC;\n",
       "    }\n",
       "\n",
       "    [theme=dark] .colab-df-convert:hover {\n",
       "      background-color: #434B5C;\n",
       "      box-shadow: 0px 1px 3px 1px rgba(0, 0, 0, 0.15);\n",
       "      filter: drop-shadow(0px 1px 2px rgba(0, 0, 0, 0.3));\n",
       "      fill: #FFFFFF;\n",
       "    }\n",
       "  </style>\n",
       "\n",
       "    <script>\n",
       "      const buttonEl =\n",
       "        document.querySelector('#df-5d9f9509-9c5f-4d59-bb69-3f950ab3cd45 button.colab-df-convert');\n",
       "      buttonEl.style.display =\n",
       "        google.colab.kernel.accessAllowed ? 'block' : 'none';\n",
       "\n",
       "      async function convertToInteractive(key) {\n",
       "        const element = document.querySelector('#df-5d9f9509-9c5f-4d59-bb69-3f950ab3cd45');\n",
       "        const dataTable =\n",
       "          await google.colab.kernel.invokeFunction('convertToInteractive',\n",
       "                                                    [key], {});\n",
       "        if (!dataTable) return;\n",
       "\n",
       "        const docLinkHtml = 'Like what you see? Visit the ' +\n",
       "          '<a target=\"_blank\" href=https://colab.research.google.com/notebooks/data_table.ipynb>data table notebook</a>'\n",
       "          + ' to learn more about interactive tables.';\n",
       "        element.innerHTML = '';\n",
       "        dataTable['output_type'] = 'display_data';\n",
       "        await google.colab.output.renderOutput(dataTable, element);\n",
       "        const docLink = document.createElement('div');\n",
       "        docLink.innerHTML = docLinkHtml;\n",
       "        element.appendChild(docLink);\n",
       "      }\n",
       "    </script>\n",
       "  </div>\n",
       "\n",
       "\n",
       "<div id=\"df-21c7cad6-ec68-42cf-b011-0ec44582281d\">\n",
       "  <button class=\"colab-df-quickchart\" onclick=\"quickchart('df-21c7cad6-ec68-42cf-b011-0ec44582281d')\"\n",
       "            title=\"Suggest charts\"\n",
       "            style=\"display:none;\">\n",
       "\n",
       "<svg xmlns=\"http://www.w3.org/2000/svg\" height=\"24px\"viewBox=\"0 0 24 24\"\n",
       "     width=\"24px\">\n",
       "    <g>\n",
       "        <path d=\"M19 3H5c-1.1 0-2 .9-2 2v14c0 1.1.9 2 2 2h14c1.1 0 2-.9 2-2V5c0-1.1-.9-2-2-2zM9 17H7v-7h2v7zm4 0h-2V7h2v10zm4 0h-2v-4h2v4z\"/>\n",
       "    </g>\n",
       "</svg>\n",
       "  </button>\n",
       "\n",
       "<style>\n",
       "  .colab-df-quickchart {\n",
       "      --bg-color: #E8F0FE;\n",
       "      --fill-color: #1967D2;\n",
       "      --hover-bg-color: #E2EBFA;\n",
       "      --hover-fill-color: #174EA6;\n",
       "      --disabled-fill-color: #AAA;\n",
       "      --disabled-bg-color: #DDD;\n",
       "  }\n",
       "\n",
       "  [theme=dark] .colab-df-quickchart {\n",
       "      --bg-color: #3B4455;\n",
       "      --fill-color: #D2E3FC;\n",
       "      --hover-bg-color: #434B5C;\n",
       "      --hover-fill-color: #FFFFFF;\n",
       "      --disabled-bg-color: #3B4455;\n",
       "      --disabled-fill-color: #666;\n",
       "  }\n",
       "\n",
       "  .colab-df-quickchart {\n",
       "    background-color: var(--bg-color);\n",
       "    border: none;\n",
       "    border-radius: 50%;\n",
       "    cursor: pointer;\n",
       "    display: none;\n",
       "    fill: var(--fill-color);\n",
       "    height: 32px;\n",
       "    padding: 0;\n",
       "    width: 32px;\n",
       "  }\n",
       "\n",
       "  .colab-df-quickchart:hover {\n",
       "    background-color: var(--hover-bg-color);\n",
       "    box-shadow: 0 1px 2px rgba(60, 64, 67, 0.3), 0 1px 3px 1px rgba(60, 64, 67, 0.15);\n",
       "    fill: var(--button-hover-fill-color);\n",
       "  }\n",
       "\n",
       "  .colab-df-quickchart-complete:disabled,\n",
       "  .colab-df-quickchart-complete:disabled:hover {\n",
       "    background-color: var(--disabled-bg-color);\n",
       "    fill: var(--disabled-fill-color);\n",
       "    box-shadow: none;\n",
       "  }\n",
       "\n",
       "  .colab-df-spinner {\n",
       "    border: 2px solid var(--fill-color);\n",
       "    border-color: transparent;\n",
       "    border-bottom-color: var(--fill-color);\n",
       "    animation:\n",
       "      spin 1s steps(1) infinite;\n",
       "  }\n",
       "\n",
       "  @keyframes spin {\n",
       "    0% {\n",
       "      border-color: transparent;\n",
       "      border-bottom-color: var(--fill-color);\n",
       "      border-left-color: var(--fill-color);\n",
       "    }\n",
       "    20% {\n",
       "      border-color: transparent;\n",
       "      border-left-color: var(--fill-color);\n",
       "      border-top-color: var(--fill-color);\n",
       "    }\n",
       "    30% {\n",
       "      border-color: transparent;\n",
       "      border-left-color: var(--fill-color);\n",
       "      border-top-color: var(--fill-color);\n",
       "      border-right-color: var(--fill-color);\n",
       "    }\n",
       "    40% {\n",
       "      border-color: transparent;\n",
       "      border-right-color: var(--fill-color);\n",
       "      border-top-color: var(--fill-color);\n",
       "    }\n",
       "    60% {\n",
       "      border-color: transparent;\n",
       "      border-right-color: var(--fill-color);\n",
       "    }\n",
       "    80% {\n",
       "      border-color: transparent;\n",
       "      border-right-color: var(--fill-color);\n",
       "      border-bottom-color: var(--fill-color);\n",
       "    }\n",
       "    90% {\n",
       "      border-color: transparent;\n",
       "      border-bottom-color: var(--fill-color);\n",
       "    }\n",
       "  }\n",
       "</style>\n",
       "\n",
       "  <script>\n",
       "    async function quickchart(key) {\n",
       "      const quickchartButtonEl =\n",
       "        document.querySelector('#' + key + ' button');\n",
       "      quickchartButtonEl.disabled = true;  // To prevent multiple clicks.\n",
       "      quickchartButtonEl.classList.add('colab-df-spinner');\n",
       "      try {\n",
       "        const charts = await google.colab.kernel.invokeFunction(\n",
       "            'suggestCharts', [key], {});\n",
       "      } catch (error) {\n",
       "        console.error('Error during call to suggestCharts:', error);\n",
       "      }\n",
       "      quickchartButtonEl.classList.remove('colab-df-spinner');\n",
       "      quickchartButtonEl.classList.add('colab-df-quickchart-complete');\n",
       "    }\n",
       "    (() => {\n",
       "      let quickchartButtonEl =\n",
       "        document.querySelector('#df-21c7cad6-ec68-42cf-b011-0ec44582281d button');\n",
       "      quickchartButtonEl.style.display =\n",
       "        google.colab.kernel.accessAllowed ? 'block' : 'none';\n",
       "    })();\n",
       "  </script>\n",
       "</div>\n",
       "\n",
       "    </div>\n",
       "  </div>\n"
      ],
      "text/plain": [
       "   0    1    2    3    4    5    6    7    8    9    ...  774  775  776  777  \\\n",
       "0  0.0  0.0  0.0  0.0  0.0  0.0  0.0  0.0  0.0  0.0  ...  0.0  0.0  0.0  0.0   \n",
       "1  0.0  0.0  0.0  0.0  0.0  0.0  0.0  0.0  0.0  0.0  ...  0.0  0.0  0.0  0.0   \n",
       "2  0.0  0.0  0.0  0.0  0.0  0.0  0.0  0.0  0.0  0.0  ...  0.0  0.0  0.0  0.0   \n",
       "3  0.0  0.0  0.0  0.0  0.0  0.0  0.0  0.0  0.0  0.0  ...  0.0  0.0  0.0  0.0   \n",
       "4  0.0  0.0  0.0  0.0  0.0  0.0  0.0  0.0  0.0  0.0  ...  0.0  0.0  0.0  0.0   \n",
       "\n",
       "   778  779  780  781  782  783  \n",
       "0  0.0  0.0  0.0  0.0  0.0  0.0  \n",
       "1  0.0  0.0  0.0  0.0  0.0  0.0  \n",
       "2  0.0  0.0  0.0  0.0  0.0  0.0  \n",
       "3  0.0  0.0  0.0  0.0  0.0  0.0  \n",
       "4  0.0  0.0  0.0  0.0  0.0  0.0  \n",
       "\n",
       "[5 rows x 784 columns]"
      ]
     },
     "execution_count": 109,
     "metadata": {},
     "output_type": "execute_result"
    }
   ],
   "source": [
    "df_training_data.head()"
   ]
  },
  {
   "cell_type": "code",
   "execution_count": null,
   "metadata": {
    "colab": {
     "base_uri": "https://localhost:8080/"
    },
    "id": "R18owlneiDwv",
    "outputId": "29815ced-9369-455e-e6f4-8b4c9b2c43c1"
   },
   "outputs": [
    {
     "name": "stdout",
     "output_type": "stream",
     "text": [
      "<class 'pandas.core.frame.DataFrame'>\n",
      "RangeIndex: 60000 entries, 0 to 59999\n",
      "Columns: 784 entries, 0 to 783\n",
      "dtypes: float32(784)\n",
      "memory usage: 179.4 MB\n"
     ]
    }
   ],
   "source": [
    "df_training_data.info()"
   ]
  },
  {
   "cell_type": "code",
   "execution_count": null,
   "metadata": {
    "colab": {
     "base_uri": "https://localhost:8080/",
     "height": 206
    },
    "id": "vcPX0bsdhx2_",
    "outputId": "683b2bd0-7dc7-4c4d-ad81-049d4f377161"
   },
   "outputs": [
    {
     "data": {
      "application/vnd.google.colaboratory.intrinsic+json": {
       "summary": "{\n  \"name\": \"df_training_labels\",\n  \"rows\": 60000,\n  \"fields\": [\n    {\n      \"column\": \"Label\",\n      \"properties\": {\n        \"dtype\": \"number\",\n        \"std\": 2,\n        \"min\": 0,\n        \"max\": 9,\n        \"num_unique_values\": 10,\n        \"samples\": [\n          2,\n          9,\n          7\n        ],\n        \"semantic_type\": \"\",\n        \"description\": \"\"\n      }\n    }\n  ]\n}",
       "type": "dataframe",
       "variable_name": "df_training_labels"
      },
      "text/html": [
       "\n",
       "  <div id=\"df-0485775c-d2c8-4714-b2e8-b6a6939d78e9\" class=\"colab-df-container\">\n",
       "    <div>\n",
       "<style scoped>\n",
       "    .dataframe tbody tr th:only-of-type {\n",
       "        vertical-align: middle;\n",
       "    }\n",
       "\n",
       "    .dataframe tbody tr th {\n",
       "        vertical-align: top;\n",
       "    }\n",
       "\n",
       "    .dataframe thead th {\n",
       "        text-align: right;\n",
       "    }\n",
       "</style>\n",
       "<table border=\"1\" class=\"dataframe\">\n",
       "  <thead>\n",
       "    <tr style=\"text-align: right;\">\n",
       "      <th></th>\n",
       "      <th>Label</th>\n",
       "    </tr>\n",
       "  </thead>\n",
       "  <tbody>\n",
       "    <tr>\n",
       "      <th>0</th>\n",
       "      <td>8</td>\n",
       "    </tr>\n",
       "    <tr>\n",
       "      <th>1</th>\n",
       "      <td>9</td>\n",
       "    </tr>\n",
       "    <tr>\n",
       "      <th>2</th>\n",
       "      <td>6</td>\n",
       "    </tr>\n",
       "    <tr>\n",
       "      <th>3</th>\n",
       "      <td>4</td>\n",
       "    </tr>\n",
       "    <tr>\n",
       "      <th>4</th>\n",
       "      <td>4</td>\n",
       "    </tr>\n",
       "  </tbody>\n",
       "</table>\n",
       "</div>\n",
       "    <div class=\"colab-df-buttons\">\n",
       "\n",
       "  <div class=\"colab-df-container\">\n",
       "    <button class=\"colab-df-convert\" onclick=\"convertToInteractive('df-0485775c-d2c8-4714-b2e8-b6a6939d78e9')\"\n",
       "            title=\"Convert this dataframe to an interactive table.\"\n",
       "            style=\"display:none;\">\n",
       "\n",
       "  <svg xmlns=\"http://www.w3.org/2000/svg\" height=\"24px\" viewBox=\"0 -960 960 960\">\n",
       "    <path d=\"M120-120v-720h720v720H120Zm60-500h600v-160H180v160Zm220 220h160v-160H400v160Zm0 220h160v-160H400v160ZM180-400h160v-160H180v160Zm440 0h160v-160H620v160ZM180-180h160v-160H180v160Zm440 0h160v-160H620v160Z\"/>\n",
       "  </svg>\n",
       "    </button>\n",
       "\n",
       "  <style>\n",
       "    .colab-df-container {\n",
       "      display:flex;\n",
       "      gap: 12px;\n",
       "    }\n",
       "\n",
       "    .colab-df-convert {\n",
       "      background-color: #E8F0FE;\n",
       "      border: none;\n",
       "      border-radius: 50%;\n",
       "      cursor: pointer;\n",
       "      display: none;\n",
       "      fill: #1967D2;\n",
       "      height: 32px;\n",
       "      padding: 0 0 0 0;\n",
       "      width: 32px;\n",
       "    }\n",
       "\n",
       "    .colab-df-convert:hover {\n",
       "      background-color: #E2EBFA;\n",
       "      box-shadow: 0px 1px 2px rgba(60, 64, 67, 0.3), 0px 1px 3px 1px rgba(60, 64, 67, 0.15);\n",
       "      fill: #174EA6;\n",
       "    }\n",
       "\n",
       "    .colab-df-buttons div {\n",
       "      margin-bottom: 4px;\n",
       "    }\n",
       "\n",
       "    [theme=dark] .colab-df-convert {\n",
       "      background-color: #3B4455;\n",
       "      fill: #D2E3FC;\n",
       "    }\n",
       "\n",
       "    [theme=dark] .colab-df-convert:hover {\n",
       "      background-color: #434B5C;\n",
       "      box-shadow: 0px 1px 3px 1px rgba(0, 0, 0, 0.15);\n",
       "      filter: drop-shadow(0px 1px 2px rgba(0, 0, 0, 0.3));\n",
       "      fill: #FFFFFF;\n",
       "    }\n",
       "  </style>\n",
       "\n",
       "    <script>\n",
       "      const buttonEl =\n",
       "        document.querySelector('#df-0485775c-d2c8-4714-b2e8-b6a6939d78e9 button.colab-df-convert');\n",
       "      buttonEl.style.display =\n",
       "        google.colab.kernel.accessAllowed ? 'block' : 'none';\n",
       "\n",
       "      async function convertToInteractive(key) {\n",
       "        const element = document.querySelector('#df-0485775c-d2c8-4714-b2e8-b6a6939d78e9');\n",
       "        const dataTable =\n",
       "          await google.colab.kernel.invokeFunction('convertToInteractive',\n",
       "                                                    [key], {});\n",
       "        if (!dataTable) return;\n",
       "\n",
       "        const docLinkHtml = 'Like what you see? Visit the ' +\n",
       "          '<a target=\"_blank\" href=https://colab.research.google.com/notebooks/data_table.ipynb>data table notebook</a>'\n",
       "          + ' to learn more about interactive tables.';\n",
       "        element.innerHTML = '';\n",
       "        dataTable['output_type'] = 'display_data';\n",
       "        await google.colab.output.renderOutput(dataTable, element);\n",
       "        const docLink = document.createElement('div');\n",
       "        docLink.innerHTML = docLinkHtml;\n",
       "        element.appendChild(docLink);\n",
       "      }\n",
       "    </script>\n",
       "  </div>\n",
       "\n",
       "\n",
       "<div id=\"df-7a27cc13-a5b2-4d21-832f-7a842278c87f\">\n",
       "  <button class=\"colab-df-quickchart\" onclick=\"quickchart('df-7a27cc13-a5b2-4d21-832f-7a842278c87f')\"\n",
       "            title=\"Suggest charts\"\n",
       "            style=\"display:none;\">\n",
       "\n",
       "<svg xmlns=\"http://www.w3.org/2000/svg\" height=\"24px\"viewBox=\"0 0 24 24\"\n",
       "     width=\"24px\">\n",
       "    <g>\n",
       "        <path d=\"M19 3H5c-1.1 0-2 .9-2 2v14c0 1.1.9 2 2 2h14c1.1 0 2-.9 2-2V5c0-1.1-.9-2-2-2zM9 17H7v-7h2v7zm4 0h-2V7h2v10zm4 0h-2v-4h2v4z\"/>\n",
       "    </g>\n",
       "</svg>\n",
       "  </button>\n",
       "\n",
       "<style>\n",
       "  .colab-df-quickchart {\n",
       "      --bg-color: #E8F0FE;\n",
       "      --fill-color: #1967D2;\n",
       "      --hover-bg-color: #E2EBFA;\n",
       "      --hover-fill-color: #174EA6;\n",
       "      --disabled-fill-color: #AAA;\n",
       "      --disabled-bg-color: #DDD;\n",
       "  }\n",
       "\n",
       "  [theme=dark] .colab-df-quickchart {\n",
       "      --bg-color: #3B4455;\n",
       "      --fill-color: #D2E3FC;\n",
       "      --hover-bg-color: #434B5C;\n",
       "      --hover-fill-color: #FFFFFF;\n",
       "      --disabled-bg-color: #3B4455;\n",
       "      --disabled-fill-color: #666;\n",
       "  }\n",
       "\n",
       "  .colab-df-quickchart {\n",
       "    background-color: var(--bg-color);\n",
       "    border: none;\n",
       "    border-radius: 50%;\n",
       "    cursor: pointer;\n",
       "    display: none;\n",
       "    fill: var(--fill-color);\n",
       "    height: 32px;\n",
       "    padding: 0;\n",
       "    width: 32px;\n",
       "  }\n",
       "\n",
       "  .colab-df-quickchart:hover {\n",
       "    background-color: var(--hover-bg-color);\n",
       "    box-shadow: 0 1px 2px rgba(60, 64, 67, 0.3), 0 1px 3px 1px rgba(60, 64, 67, 0.15);\n",
       "    fill: var(--button-hover-fill-color);\n",
       "  }\n",
       "\n",
       "  .colab-df-quickchart-complete:disabled,\n",
       "  .colab-df-quickchart-complete:disabled:hover {\n",
       "    background-color: var(--disabled-bg-color);\n",
       "    fill: var(--disabled-fill-color);\n",
       "    box-shadow: none;\n",
       "  }\n",
       "\n",
       "  .colab-df-spinner {\n",
       "    border: 2px solid var(--fill-color);\n",
       "    border-color: transparent;\n",
       "    border-bottom-color: var(--fill-color);\n",
       "    animation:\n",
       "      spin 1s steps(1) infinite;\n",
       "  }\n",
       "\n",
       "  @keyframes spin {\n",
       "    0% {\n",
       "      border-color: transparent;\n",
       "      border-bottom-color: var(--fill-color);\n",
       "      border-left-color: var(--fill-color);\n",
       "    }\n",
       "    20% {\n",
       "      border-color: transparent;\n",
       "      border-left-color: var(--fill-color);\n",
       "      border-top-color: var(--fill-color);\n",
       "    }\n",
       "    30% {\n",
       "      border-color: transparent;\n",
       "      border-left-color: var(--fill-color);\n",
       "      border-top-color: var(--fill-color);\n",
       "      border-right-color: var(--fill-color);\n",
       "    }\n",
       "    40% {\n",
       "      border-color: transparent;\n",
       "      border-right-color: var(--fill-color);\n",
       "      border-top-color: var(--fill-color);\n",
       "    }\n",
       "    60% {\n",
       "      border-color: transparent;\n",
       "      border-right-color: var(--fill-color);\n",
       "    }\n",
       "    80% {\n",
       "      border-color: transparent;\n",
       "      border-right-color: var(--fill-color);\n",
       "      border-bottom-color: var(--fill-color);\n",
       "    }\n",
       "    90% {\n",
       "      border-color: transparent;\n",
       "      border-bottom-color: var(--fill-color);\n",
       "    }\n",
       "  }\n",
       "</style>\n",
       "\n",
       "  <script>\n",
       "    async function quickchart(key) {\n",
       "      const quickchartButtonEl =\n",
       "        document.querySelector('#' + key + ' button');\n",
       "      quickchartButtonEl.disabled = true;  // To prevent multiple clicks.\n",
       "      quickchartButtonEl.classList.add('colab-df-spinner');\n",
       "      try {\n",
       "        const charts = await google.colab.kernel.invokeFunction(\n",
       "            'suggestCharts', [key], {});\n",
       "      } catch (error) {\n",
       "        console.error('Error during call to suggestCharts:', error);\n",
       "      }\n",
       "      quickchartButtonEl.classList.remove('colab-df-spinner');\n",
       "      quickchartButtonEl.classList.add('colab-df-quickchart-complete');\n",
       "    }\n",
       "    (() => {\n",
       "      let quickchartButtonEl =\n",
       "        document.querySelector('#df-7a27cc13-a5b2-4d21-832f-7a842278c87f button');\n",
       "      quickchartButtonEl.style.display =\n",
       "        google.colab.kernel.accessAllowed ? 'block' : 'none';\n",
       "    })();\n",
       "  </script>\n",
       "</div>\n",
       "\n",
       "    </div>\n",
       "  </div>\n"
      ],
      "text/plain": [
       "   Label\n",
       "0      8\n",
       "1      9\n",
       "2      6\n",
       "3      4\n",
       "4      4"
      ]
     },
     "execution_count": 111,
     "metadata": {},
     "output_type": "execute_result"
    }
   ],
   "source": [
    "df_training_labels.head()"
   ]
  },
  {
   "cell_type": "code",
   "execution_count": null,
   "metadata": {
    "colab": {
     "base_uri": "https://localhost:8080/"
    },
    "id": "beezDXOoiH_i",
    "outputId": "0c96adf1-4f24-498a-fd0c-0025217cda93"
   },
   "outputs": [
    {
     "name": "stdout",
     "output_type": "stream",
     "text": [
      "<class 'pandas.core.frame.DataFrame'>\n",
      "RangeIndex: 60000 entries, 0 to 59999\n",
      "Data columns (total 1 columns):\n",
      " #   Column  Non-Null Count  Dtype\n",
      "---  ------  --------------  -----\n",
      " 0   Label   60000 non-null  int64\n",
      "dtypes: int64(1)\n",
      "memory usage: 468.9 KB\n"
     ]
    }
   ],
   "source": [
    "df_training_labels.info()"
   ]
  },
  {
   "cell_type": "code",
   "execution_count": null,
   "metadata": {
    "colab": {
     "base_uri": "https://localhost:8080/",
     "height": 235
    },
    "id": "GjU5UsVah8JS",
    "outputId": "830caabf-fea5-420b-e391-f87d69efc127"
   },
   "outputs": [
    {
     "data": {
      "application/vnd.google.colaboratory.intrinsic+json": {
       "type": "dataframe",
       "variable_name": "df_test_data"
      },
      "text/html": [
       "\n",
       "  <div id=\"df-0f4c60ff-f1ea-460c-b1a5-01d0ee041d11\" class=\"colab-df-container\">\n",
       "    <div>\n",
       "<style scoped>\n",
       "    .dataframe tbody tr th:only-of-type {\n",
       "        vertical-align: middle;\n",
       "    }\n",
       "\n",
       "    .dataframe tbody tr th {\n",
       "        vertical-align: top;\n",
       "    }\n",
       "\n",
       "    .dataframe thead th {\n",
       "        text-align: right;\n",
       "    }\n",
       "</style>\n",
       "<table border=\"1\" class=\"dataframe\">\n",
       "  <thead>\n",
       "    <tr style=\"text-align: right;\">\n",
       "      <th></th>\n",
       "      <th>0</th>\n",
       "      <th>1</th>\n",
       "      <th>2</th>\n",
       "      <th>3</th>\n",
       "      <th>4</th>\n",
       "      <th>5</th>\n",
       "      <th>6</th>\n",
       "      <th>7</th>\n",
       "      <th>8</th>\n",
       "      <th>9</th>\n",
       "      <th>...</th>\n",
       "      <th>774</th>\n",
       "      <th>775</th>\n",
       "      <th>776</th>\n",
       "      <th>777</th>\n",
       "      <th>778</th>\n",
       "      <th>779</th>\n",
       "      <th>780</th>\n",
       "      <th>781</th>\n",
       "      <th>782</th>\n",
       "      <th>783</th>\n",
       "    </tr>\n",
       "  </thead>\n",
       "  <tbody>\n",
       "    <tr>\n",
       "      <th>0</th>\n",
       "      <td>0.0</td>\n",
       "      <td>0.0</td>\n",
       "      <td>0.0</td>\n",
       "      <td>0.0</td>\n",
       "      <td>0.0</td>\n",
       "      <td>0.0</td>\n",
       "      <td>0.0</td>\n",
       "      <td>0.0</td>\n",
       "      <td>0.0</td>\n",
       "      <td>0.0</td>\n",
       "      <td>...</td>\n",
       "      <td>0.0</td>\n",
       "      <td>0.0</td>\n",
       "      <td>0.0</td>\n",
       "      <td>0.0</td>\n",
       "      <td>0.0</td>\n",
       "      <td>0.0</td>\n",
       "      <td>0.0</td>\n",
       "      <td>0.0</td>\n",
       "      <td>0.0</td>\n",
       "      <td>0.0</td>\n",
       "    </tr>\n",
       "    <tr>\n",
       "      <th>1</th>\n",
       "      <td>0.0</td>\n",
       "      <td>0.0</td>\n",
       "      <td>0.0</td>\n",
       "      <td>0.0</td>\n",
       "      <td>0.0</td>\n",
       "      <td>0.0</td>\n",
       "      <td>0.0</td>\n",
       "      <td>0.0</td>\n",
       "      <td>0.0</td>\n",
       "      <td>0.0</td>\n",
       "      <td>...</td>\n",
       "      <td>0.0</td>\n",
       "      <td>0.0</td>\n",
       "      <td>0.0</td>\n",
       "      <td>0.0</td>\n",
       "      <td>0.0</td>\n",
       "      <td>0.0</td>\n",
       "      <td>0.0</td>\n",
       "      <td>0.0</td>\n",
       "      <td>0.0</td>\n",
       "      <td>0.0</td>\n",
       "    </tr>\n",
       "    <tr>\n",
       "      <th>2</th>\n",
       "      <td>0.0</td>\n",
       "      <td>0.0</td>\n",
       "      <td>0.0</td>\n",
       "      <td>0.0</td>\n",
       "      <td>0.0</td>\n",
       "      <td>0.0</td>\n",
       "      <td>0.0</td>\n",
       "      <td>0.0</td>\n",
       "      <td>0.0</td>\n",
       "      <td>0.0</td>\n",
       "      <td>...</td>\n",
       "      <td>0.0</td>\n",
       "      <td>0.0</td>\n",
       "      <td>0.0</td>\n",
       "      <td>0.0</td>\n",
       "      <td>0.0</td>\n",
       "      <td>0.0</td>\n",
       "      <td>0.0</td>\n",
       "      <td>0.0</td>\n",
       "      <td>0.0</td>\n",
       "      <td>0.0</td>\n",
       "    </tr>\n",
       "    <tr>\n",
       "      <th>3</th>\n",
       "      <td>0.0</td>\n",
       "      <td>0.0</td>\n",
       "      <td>0.0</td>\n",
       "      <td>0.0</td>\n",
       "      <td>0.0</td>\n",
       "      <td>0.0</td>\n",
       "      <td>0.0</td>\n",
       "      <td>0.0</td>\n",
       "      <td>0.0</td>\n",
       "      <td>0.0</td>\n",
       "      <td>...</td>\n",
       "      <td>0.0</td>\n",
       "      <td>0.0</td>\n",
       "      <td>0.0</td>\n",
       "      <td>0.0</td>\n",
       "      <td>0.0</td>\n",
       "      <td>0.0</td>\n",
       "      <td>0.0</td>\n",
       "      <td>0.0</td>\n",
       "      <td>0.0</td>\n",
       "      <td>0.0</td>\n",
       "    </tr>\n",
       "    <tr>\n",
       "      <th>4</th>\n",
       "      <td>0.0</td>\n",
       "      <td>0.0</td>\n",
       "      <td>0.0</td>\n",
       "      <td>0.0</td>\n",
       "      <td>0.0</td>\n",
       "      <td>0.0</td>\n",
       "      <td>0.0</td>\n",
       "      <td>0.0</td>\n",
       "      <td>0.0</td>\n",
       "      <td>0.0</td>\n",
       "      <td>...</td>\n",
       "      <td>0.0</td>\n",
       "      <td>0.0</td>\n",
       "      <td>0.0</td>\n",
       "      <td>0.0</td>\n",
       "      <td>0.0</td>\n",
       "      <td>0.0</td>\n",
       "      <td>0.0</td>\n",
       "      <td>0.0</td>\n",
       "      <td>0.0</td>\n",
       "      <td>0.0</td>\n",
       "    </tr>\n",
       "  </tbody>\n",
       "</table>\n",
       "<p>5 rows × 784 columns</p>\n",
       "</div>\n",
       "    <div class=\"colab-df-buttons\">\n",
       "\n",
       "  <div class=\"colab-df-container\">\n",
       "    <button class=\"colab-df-convert\" onclick=\"convertToInteractive('df-0f4c60ff-f1ea-460c-b1a5-01d0ee041d11')\"\n",
       "            title=\"Convert this dataframe to an interactive table.\"\n",
       "            style=\"display:none;\">\n",
       "\n",
       "  <svg xmlns=\"http://www.w3.org/2000/svg\" height=\"24px\" viewBox=\"0 -960 960 960\">\n",
       "    <path d=\"M120-120v-720h720v720H120Zm60-500h600v-160H180v160Zm220 220h160v-160H400v160Zm0 220h160v-160H400v160ZM180-400h160v-160H180v160Zm440 0h160v-160H620v160ZM180-180h160v-160H180v160Zm440 0h160v-160H620v160Z\"/>\n",
       "  </svg>\n",
       "    </button>\n",
       "\n",
       "  <style>\n",
       "    .colab-df-container {\n",
       "      display:flex;\n",
       "      gap: 12px;\n",
       "    }\n",
       "\n",
       "    .colab-df-convert {\n",
       "      background-color: #E8F0FE;\n",
       "      border: none;\n",
       "      border-radius: 50%;\n",
       "      cursor: pointer;\n",
       "      display: none;\n",
       "      fill: #1967D2;\n",
       "      height: 32px;\n",
       "      padding: 0 0 0 0;\n",
       "      width: 32px;\n",
       "    }\n",
       "\n",
       "    .colab-df-convert:hover {\n",
       "      background-color: #E2EBFA;\n",
       "      box-shadow: 0px 1px 2px rgba(60, 64, 67, 0.3), 0px 1px 3px 1px rgba(60, 64, 67, 0.15);\n",
       "      fill: #174EA6;\n",
       "    }\n",
       "\n",
       "    .colab-df-buttons div {\n",
       "      margin-bottom: 4px;\n",
       "    }\n",
       "\n",
       "    [theme=dark] .colab-df-convert {\n",
       "      background-color: #3B4455;\n",
       "      fill: #D2E3FC;\n",
       "    }\n",
       "\n",
       "    [theme=dark] .colab-df-convert:hover {\n",
       "      background-color: #434B5C;\n",
       "      box-shadow: 0px 1px 3px 1px rgba(0, 0, 0, 0.15);\n",
       "      filter: drop-shadow(0px 1px 2px rgba(0, 0, 0, 0.3));\n",
       "      fill: #FFFFFF;\n",
       "    }\n",
       "  </style>\n",
       "\n",
       "    <script>\n",
       "      const buttonEl =\n",
       "        document.querySelector('#df-0f4c60ff-f1ea-460c-b1a5-01d0ee041d11 button.colab-df-convert');\n",
       "      buttonEl.style.display =\n",
       "        google.colab.kernel.accessAllowed ? 'block' : 'none';\n",
       "\n",
       "      async function convertToInteractive(key) {\n",
       "        const element = document.querySelector('#df-0f4c60ff-f1ea-460c-b1a5-01d0ee041d11');\n",
       "        const dataTable =\n",
       "          await google.colab.kernel.invokeFunction('convertToInteractive',\n",
       "                                                    [key], {});\n",
       "        if (!dataTable) return;\n",
       "\n",
       "        const docLinkHtml = 'Like what you see? Visit the ' +\n",
       "          '<a target=\"_blank\" href=https://colab.research.google.com/notebooks/data_table.ipynb>data table notebook</a>'\n",
       "          + ' to learn more about interactive tables.';\n",
       "        element.innerHTML = '';\n",
       "        dataTable['output_type'] = 'display_data';\n",
       "        await google.colab.output.renderOutput(dataTable, element);\n",
       "        const docLink = document.createElement('div');\n",
       "        docLink.innerHTML = docLinkHtml;\n",
       "        element.appendChild(docLink);\n",
       "      }\n",
       "    </script>\n",
       "  </div>\n",
       "\n",
       "\n",
       "<div id=\"df-c63a6bb7-96f2-4010-8fd9-7ab75c89b8eb\">\n",
       "  <button class=\"colab-df-quickchart\" onclick=\"quickchart('df-c63a6bb7-96f2-4010-8fd9-7ab75c89b8eb')\"\n",
       "            title=\"Suggest charts\"\n",
       "            style=\"display:none;\">\n",
       "\n",
       "<svg xmlns=\"http://www.w3.org/2000/svg\" height=\"24px\"viewBox=\"0 0 24 24\"\n",
       "     width=\"24px\">\n",
       "    <g>\n",
       "        <path d=\"M19 3H5c-1.1 0-2 .9-2 2v14c0 1.1.9 2 2 2h14c1.1 0 2-.9 2-2V5c0-1.1-.9-2-2-2zM9 17H7v-7h2v7zm4 0h-2V7h2v10zm4 0h-2v-4h2v4z\"/>\n",
       "    </g>\n",
       "</svg>\n",
       "  </button>\n",
       "\n",
       "<style>\n",
       "  .colab-df-quickchart {\n",
       "      --bg-color: #E8F0FE;\n",
       "      --fill-color: #1967D2;\n",
       "      --hover-bg-color: #E2EBFA;\n",
       "      --hover-fill-color: #174EA6;\n",
       "      --disabled-fill-color: #AAA;\n",
       "      --disabled-bg-color: #DDD;\n",
       "  }\n",
       "\n",
       "  [theme=dark] .colab-df-quickchart {\n",
       "      --bg-color: #3B4455;\n",
       "      --fill-color: #D2E3FC;\n",
       "      --hover-bg-color: #434B5C;\n",
       "      --hover-fill-color: #FFFFFF;\n",
       "      --disabled-bg-color: #3B4455;\n",
       "      --disabled-fill-color: #666;\n",
       "  }\n",
       "\n",
       "  .colab-df-quickchart {\n",
       "    background-color: var(--bg-color);\n",
       "    border: none;\n",
       "    border-radius: 50%;\n",
       "    cursor: pointer;\n",
       "    display: none;\n",
       "    fill: var(--fill-color);\n",
       "    height: 32px;\n",
       "    padding: 0;\n",
       "    width: 32px;\n",
       "  }\n",
       "\n",
       "  .colab-df-quickchart:hover {\n",
       "    background-color: var(--hover-bg-color);\n",
       "    box-shadow: 0 1px 2px rgba(60, 64, 67, 0.3), 0 1px 3px 1px rgba(60, 64, 67, 0.15);\n",
       "    fill: var(--button-hover-fill-color);\n",
       "  }\n",
       "\n",
       "  .colab-df-quickchart-complete:disabled,\n",
       "  .colab-df-quickchart-complete:disabled:hover {\n",
       "    background-color: var(--disabled-bg-color);\n",
       "    fill: var(--disabled-fill-color);\n",
       "    box-shadow: none;\n",
       "  }\n",
       "\n",
       "  .colab-df-spinner {\n",
       "    border: 2px solid var(--fill-color);\n",
       "    border-color: transparent;\n",
       "    border-bottom-color: var(--fill-color);\n",
       "    animation:\n",
       "      spin 1s steps(1) infinite;\n",
       "  }\n",
       "\n",
       "  @keyframes spin {\n",
       "    0% {\n",
       "      border-color: transparent;\n",
       "      border-bottom-color: var(--fill-color);\n",
       "      border-left-color: var(--fill-color);\n",
       "    }\n",
       "    20% {\n",
       "      border-color: transparent;\n",
       "      border-left-color: var(--fill-color);\n",
       "      border-top-color: var(--fill-color);\n",
       "    }\n",
       "    30% {\n",
       "      border-color: transparent;\n",
       "      border-left-color: var(--fill-color);\n",
       "      border-top-color: var(--fill-color);\n",
       "      border-right-color: var(--fill-color);\n",
       "    }\n",
       "    40% {\n",
       "      border-color: transparent;\n",
       "      border-right-color: var(--fill-color);\n",
       "      border-top-color: var(--fill-color);\n",
       "    }\n",
       "    60% {\n",
       "      border-color: transparent;\n",
       "      border-right-color: var(--fill-color);\n",
       "    }\n",
       "    80% {\n",
       "      border-color: transparent;\n",
       "      border-right-color: var(--fill-color);\n",
       "      border-bottom-color: var(--fill-color);\n",
       "    }\n",
       "    90% {\n",
       "      border-color: transparent;\n",
       "      border-bottom-color: var(--fill-color);\n",
       "    }\n",
       "  }\n",
       "</style>\n",
       "\n",
       "  <script>\n",
       "    async function quickchart(key) {\n",
       "      const quickchartButtonEl =\n",
       "        document.querySelector('#' + key + ' button');\n",
       "      quickchartButtonEl.disabled = true;  // To prevent multiple clicks.\n",
       "      quickchartButtonEl.classList.add('colab-df-spinner');\n",
       "      try {\n",
       "        const charts = await google.colab.kernel.invokeFunction(\n",
       "            'suggestCharts', [key], {});\n",
       "      } catch (error) {\n",
       "        console.error('Error during call to suggestCharts:', error);\n",
       "      }\n",
       "      quickchartButtonEl.classList.remove('colab-df-spinner');\n",
       "      quickchartButtonEl.classList.add('colab-df-quickchart-complete');\n",
       "    }\n",
       "    (() => {\n",
       "      let quickchartButtonEl =\n",
       "        document.querySelector('#df-c63a6bb7-96f2-4010-8fd9-7ab75c89b8eb button');\n",
       "      quickchartButtonEl.style.display =\n",
       "        google.colab.kernel.accessAllowed ? 'block' : 'none';\n",
       "    })();\n",
       "  </script>\n",
       "</div>\n",
       "\n",
       "    </div>\n",
       "  </div>\n"
      ],
      "text/plain": [
       "   0    1    2    3    4    5    6    7    8    9    ...  774  775  776  777  \\\n",
       "0  0.0  0.0  0.0  0.0  0.0  0.0  0.0  0.0  0.0  0.0  ...  0.0  0.0  0.0  0.0   \n",
       "1  0.0  0.0  0.0  0.0  0.0  0.0  0.0  0.0  0.0  0.0  ...  0.0  0.0  0.0  0.0   \n",
       "2  0.0  0.0  0.0  0.0  0.0  0.0  0.0  0.0  0.0  0.0  ...  0.0  0.0  0.0  0.0   \n",
       "3  0.0  0.0  0.0  0.0  0.0  0.0  0.0  0.0  0.0  0.0  ...  0.0  0.0  0.0  0.0   \n",
       "4  0.0  0.0  0.0  0.0  0.0  0.0  0.0  0.0  0.0  0.0  ...  0.0  0.0  0.0  0.0   \n",
       "\n",
       "   778  779  780  781  782  783  \n",
       "0  0.0  0.0  0.0  0.0  0.0  0.0  \n",
       "1  0.0  0.0  0.0  0.0  0.0  0.0  \n",
       "2  0.0  0.0  0.0  0.0  0.0  0.0  \n",
       "3  0.0  0.0  0.0  0.0  0.0  0.0  \n",
       "4  0.0  0.0  0.0  0.0  0.0  0.0  \n",
       "\n",
       "[5 rows x 784 columns]"
      ]
     },
     "execution_count": 113,
     "metadata": {},
     "output_type": "execute_result"
    }
   ],
   "source": [
    "df_test_data.head()"
   ]
  },
  {
   "cell_type": "code",
   "execution_count": null,
   "metadata": {
    "colab": {
     "base_uri": "https://localhost:8080/"
    },
    "id": "Q_FxJ75riOd_",
    "outputId": "97ad85f3-1f7d-4183-e9a2-bd0abab252af"
   },
   "outputs": [
    {
     "name": "stdout",
     "output_type": "stream",
     "text": [
      "<class 'pandas.core.frame.DataFrame'>\n",
      "RangeIndex: 10000 entries, 0 to 9999\n",
      "Columns: 784 entries, 0 to 783\n",
      "dtypes: float32(784)\n",
      "memory usage: 29.9 MB\n"
     ]
    }
   ],
   "source": [
    "df_test_data.info()"
   ]
  },
  {
   "cell_type": "markdown",
   "metadata": {
    "id": "d6Diu65jihCf"
   },
   "source": [
    "### ___Justificación  función load_mnist_data___\n",
    "---\n",
    ">* La función load_mnist_data automatiza la descarga y extracción de estos datos desde un archivo comprimido y los convierte en DataFrames de Pandas. Estos DataFrames organizan los datos de entrenamiento, las etiquetas y los datos de prueba en formatos tabulares, facilitando su manipulación y análisis posterior.\n",
    "\n",
    ">* Además de cargar y organizar los datos, realizamos una verificación exhaustiva para detectar valores nulos en cada DataFrame, confirmando que no existen valores nulos en ninguno de los conjuntos de datos (entrenamiento, etiquetas y prueba). Esta verificación asegura que los datos están completos y no requerirán tratamientos adicionales para manejar ausencias, lo cual es crucial para mantener la integridad del análisis y la eficacia del entrenamiento de modelos.\n",
    "\n",
    ">* Mediante el uso de las funciones head() e info() de Pandas, proporcionamos una vista preliminar de los datos y un resumen informativo que incluye el tipo de datos y la cantidad de datos no nulos, lo que permite una primera evaluación rápida de la estructura y la limpieza de los datos. Estas herramientas son esenciales para la exploración inicial de los datos, permitiendo ajustes rápidos antes de proceder a análisis más profundos o entrenamiento de modelos.\n"
   ]
  },
  {
   "cell_type": "markdown",
   "metadata": {
    "id": "JtC4JBS_eVuY"
   },
   "source": [
    "## ___Características y Puntos de Muestra___\n",
    "---\n",
    ">* Explore los puntos de muestra y explique sus características. Revise si es necesario preprocesar. Debe\n",
    "justificar la elección de los procesos realizados"
   ]
  },
  {
   "cell_type": "markdown",
   "metadata": {
    "id": "Buj2ViSqn20X"
   },
   "source": [
    "### ___Exploración de los Datos___\n",
    "---\n",
    "> ___Objetivo:___  \n",
    "* Entender la estructura, tipo y rango de los datos contenidos en los DataFrames training_data, training_labels, y test_data.\n",
    "Características de los Puntos de Muestra:\n",
    "\n",
    ">    ___Datos de Entrenamiento y Prueba (training_data, test_data):___\n",
    ">*        Cada imagen de MNIST está representada como un array de 784 píxeles (después de aplanar la imagen original de 28x28 píxeles).\n",
    "        Cada valor en el array representa la intensidad de un píxel en escala de grises, donde 0 es negro y 255 es blanco.\n",
    "\n",
    ">    ___Etiquetas de Entrenamiento (training_labels):___\n",
    "*        Cada etiqueta es un entero de 0 a 9, correspondiendo al dígito representado por la imagen asociada.\n",
    "\n",
    ">___Revisión Inicial:___   \n",
    "* Verificamos si hay valores null en los datasets"
   ]
  },
  {
   "cell_type": "code",
   "execution_count": null,
   "metadata": {
    "id": "Xn2EVHP7oPYv"
   },
   "outputs": [],
   "source": [
    "dataframes = {\n",
    "    'Training Data': df_training_data,\n",
    "    'Training Labels': df_training_labels,\n",
    "    'Test Data': df_test_data\n",
    "}"
   ]
  },
  {
   "cell_type": "code",
   "execution_count": null,
   "metadata": {
    "colab": {
     "base_uri": "https://localhost:8080/"
    },
    "id": "H4Im7dCeoPC0",
    "outputId": "1873bd4f-0809-4b25-fae6-e73c12f03dde"
   },
   "outputs": [
    {
     "name": "stdout",
     "output_type": "stream",
     "text": [
      "No hay valores nulos en Training Data.\n",
      "No hay valores nulos en Training Labels.\n",
      "No hay valores nulos en Test Data.\n"
     ]
    }
   ],
   "source": [
    "# Recorrer cada DataFrame y contar los valores nulos\n",
    "for name, df in dataframes.items():\n",
    "    null_count = df.isnull().sum().sum()  # Suma total de valores nulos en el DataFrame\n",
    "    if null_count == 0:\n",
    "        print(f\"No hay valores nulos en {name}.\")\n",
    "    else:\n",
    "        print(f\"Hay {null_count} valores nulos en {name}.\")"
   ]
  },
  {
   "cell_type": "markdown",
   "metadata": {
    "id": "RnFGTEb0pjf8"
   },
   "source": [
    ">* Se confirmó que no hay valores nulos,por ende no es necesario procesarlos para eliminar o imputar valores."
   ]
  },
  {
   "cell_type": "markdown",
   "metadata": {
    "id": "mImv0XMJqAVT"
   },
   "source": [
    "### ___Preprocesamiento de los Datos___\n",
    "---\n",
    ">* Dado que los valores de los píxeles están en el rango de 0 a 255, es común realizar algunos pasos de preprocesamiento antes de usar estos datos para entrenar un modelo SVM.\n",
    "\n",
    ">___Aplanamiento:___\n",
    "*  Ya hemos aplanado las imágenes de 28x28 a vectores de 784 elementos, lo cual es necesario para la mayoría de los modelos de machine learning, incluido SVM."
   ]
  },
  {
   "cell_type": "markdown",
   "metadata": {
    "id": "HpnoFETqrBGF"
   },
   "source": [
    "### ___Justificación del Preprocesamiento y Exploración___\n",
    "---\n",
    "\n",
    ">* La normalización de los valores de los píxeles mejora el rendimiento del modelo SVM. Los SVM son sensibles a la escala de los datos de entrada debido a cómo calculan las distancias entre los puntos de datos para determinar el margen óptimo. Al escalar los valores a un rango uniforme, aseguramos que el modelo no se sesgue hacia características con una mayor magnitud numérica.\n",
    "\n",
    ">* El acondicionamiento de los datos (como asegurarse de que no hay valores nulos y que las características están en un formato adecuado para modelar) es crucial para evitar errores durante el entrenamiento y garantizar que el modelo aprenda de los patrones en los datos, y no de artefactos de cómo se codifican o estructuran los datos."
   ]
  },
  {
   "cell_type": "code",
   "execution_count": null,
   "metadata": {
    "id": "_Tr0L_hh8x0k"
   },
   "outputs": [],
   "source": [
    "unique_labels = np.unique(df_training_labels['Label'])"
   ]
  },
  {
   "cell_type": "code",
   "execution_count": null,
   "metadata": {
    "id": "Wy6aG8TJ8sgf"
   },
   "outputs": [],
   "source": [
    "# Seleccionar la primera imagen para cada etiqueta única\n",
    "selected_images = []\n",
    "selected_labels = []\n",
    "for label in unique_labels:\n",
    "    # Encuentra el índice de la primera ocurrencia de cada etiqueta\n",
    "    index = df_training_labels[df_training_labels['Label'] == label].index[0]\n",
    "    selected_images.append(df_training_data.iloc[index].values)\n",
    "    selected_labels.append(label)"
   ]
  },
  {
   "cell_type": "code",
   "execution_count": null,
   "metadata": {
    "id": "LFUG1zpv8-jg"
   },
   "outputs": [],
   "source": [
    "def plot_images(images, labels, num_cols=5):\n",
    "    \"\"\"Función para mostrar una cuadrícula de imágenes MNIST con sus etiquetas.\"\"\"\n",
    "    num_rows = np.ceil(len(images) / num_cols).astype(int)\n",
    "    fig, axes = plt.subplots(num_rows, num_cols, figsize=(1.5*num_cols, 2*num_rows))\n",
    "    for i, ax in enumerate(axes.flat):\n",
    "        if i < len(images):\n",
    "            # Las imágenes están aplanadas y necesitan ser redimensionadas a 28x28 para visualización\n",
    "            img_shape = (28, 28)\n",
    "            ax.imshow(images[i].reshape(img_shape), cmap='binary')\n",
    "            ax.set_title(f\"Label: {labels[i]}\")\n",
    "        ax.axis('off')\n",
    "    plt.tight_layout()\n",
    "    plt.show()"
   ]
  },
  {
   "cell_type": "code",
   "execution_count": null,
   "metadata": {
    "colab": {
     "base_uri": "https://localhost:8080/",
     "height": 373
    },
    "id": "8hgdtOrn8_1O",
    "outputId": "e23fae97-1ac5-414d-ffca-26b4cb5fdf7d"
   },
   "outputs": [
    {
     "data": {
      "image/png": "[encoded data removed]",
      "text/plain": [
       "<Figure size 750x400 with 10 Axes>"
      ]
     },
     "metadata": {},
     "output_type": "display_data"
    }
   ],
   "source": [
    "# Llama a la función de trazado\n",
    "plot_images(selected_images, selected_labels, num_cols=5)"
   ]
  },
  {
   "cell_type": "markdown",
   "metadata": {
    "id": "JtnoXkdLVaSz"
   },
   "source": [
    "### ___Justificación Visualización y Verificación de los Datos___\n",
    "---\n",
    "> ___Verificación de la Integralidad de los Datos___\n",
    " *   Justificación: Utilizar np.unique para identificar todas las etiquetas únicas en el conjunto de entrenamiento asegura que todas las clases estén presentes y correctamente representadas. Este paso es fundamental para prevenir sesgos en el modelo debido a una distribución desequilibrada de las clases, lo cual es crucial para mantener la integridad y la fiabilidad del proceso de entrenamiento del clasificador.\n",
    "\n",
    "> ___Validación de Correspondencia de Datos y Etiquetas___\n",
    " *   Justificación: Al seleccionar una imagen de cada clase basada en las etiquetas y verificar su correspondencia, el código garantiza que las etiquetas sean precisas y estén bien asociadas con sus imágenes correspondientes. Este paso es vital para la verificación manual y asegura que no haya errores en la etiquetación, lo cual podría llevar a un entrenamiento incorrecto del modelo.\n",
    "\n",
    "> ___Facilitación de la Inspección Visual___\n",
    "*    Justificación: La función plot_images proporciona una herramienta visual para inspeccionar y verificar la calidad y características de las imágenes que se utilizarán para entrenar el modelo. La visualización de las imágenes con sus etiquetas correspondientes no solo ayuda en la verificación manual de los datos, sino que también facilita la comprensión y la demostración de la naturaleza de los datos a otros interesados o durante el análisis de datos."
   ]
  },
  {
   "cell_type": "markdown",
   "metadata": {
    "id": "ve-_12oHszxw"
   },
   "source": [
    "# ___Punto 3 : Partición de los datos___\n",
    "___\n",
    "\n",
    "> No es usual que reciba los datos de \"entrenamiento\" y datos de \"validación\"; normalmente tendrá que dividir\n",
    "usted mismo los datos etiquetados disponibles. Baraje (shunffle) y divida (partition) el conjunto de datos Tenga en cuenta que barajar antes de dividir es crucial para garantizar que todas las clases estén representadas\n",
    "en sus particiones. Para esta pregunta, no utilice ninguna de las funciones disponibles en sklearn.\n",
    "\n",
    ">* Escriba un código que reserve 10.000 imágenes de entrenamiento como conjunto de validación.\n",
    "\n",
    ">* Mezcle las etiquetas con las imágenes de entrenamiento. Es un error muy común etiquetar\n",
    "erróneamente las imágenes de entrenamiento olvidando permutar las etiquetas con las imágenes."
   ]
  },
  {
   "cell_type": "markdown",
   "metadata": {
    "id": "9vXUCUYqskWg"
   },
   "source": [
    "### ___Mezclar los Datos de Entrenamiento___\n",
    "---\n",
    "Barajar los datos antes de dividirlos es importante para garantizar que todos los lotes y subdivisiones de datos tengan una representación equitativa de todas las clases."
   ]
  },
  {
   "cell_type": "code",
   "execution_count": null,
   "metadata": {
    "id": "OoPoY6w0tP9y"
   },
   "outputs": [],
   "source": [
    "# Convertimos DataFrames a numpy arrays para facilitar el manejo\n",
    "training_data = df_training_data.to_numpy()\n",
    "training_labels = df_training_labels.to_numpy()"
   ]
  },
  {
   "cell_type": "code",
   "execution_count": null,
   "metadata": {
    "id": "R-GMmWeytS3X"
   },
   "outputs": [],
   "source": [
    "# Crear un array de índices y barajarlos\n",
    "indices = np.arange(df_training_data.shape[0])\n",
    "np.random.shuffle(indices)"
   ]
  },
  {
   "cell_type": "code",
   "execution_count": null,
   "metadata": {
    "id": "Myw9vUvItV5Z"
   },
   "outputs": [],
   "source": [
    "# Aplicar el orden barajado a los datos y etiquetas\n",
    "shuffled_training_data = df_training_data.iloc[indices].reset_index(drop=True)\n",
    "shuffled_training_labels = df_training_labels.iloc[indices].reset_index(drop=True)"
   ]
  },
  {
   "cell_type": "markdown",
   "metadata": {
    "id": "pSU1QPmz09I0"
   },
   "source": [
    "### ___Dividir los Datos___\n",
    "---\n",
    ">* Una vez que los datos están correctamente barajados, puedes separar una parte de ellos para usar como conjunto de validación. En este caso, se reservarán 10,000 imágenes para validación."
   ]
  },
  {
   "cell_type": "code",
   "execution_count": null,
   "metadata": {
    "id": "lgvSaKLm18JO"
   },
   "outputs": [],
   "source": [
    "# Dividir los datos en conjuntos de entrenamiento y validación\n",
    "valid_data = shuffled_training_data[:10000]\n",
    "valid_labels = shuffled_training_labels[:10000]"
   ]
  },
  {
   "cell_type": "code",
   "execution_count": null,
   "metadata": {
    "id": "VSzBp8MO192t"
   },
   "outputs": [],
   "source": [
    "# El resto será el conjunto de entrenamiento actualizado\n",
    "train_data = shuffled_training_data[10000:]\n",
    "train_labels = shuffled_training_labels[10000:]"
   ]
  },
  {
   "cell_type": "markdown",
   "metadata": {
    "id": "t0OcklZi3ay_"
   },
   "source": [
    "### ___Justificación del Barajado (Shuffling) de los Datos___\n",
    "---\n",
    ">El barajado de los datos es esencial por varias razones:\n",
    "\n",
    " >*   ___Varianza de los Datos:___ Al barajar los datos, aseguramos que cada partición que creamos (en este caso, el conjunto de entrenamiento y de validación) sea una representación estadísticamente válida del conjunto de datos completo. Esto evita cualquier sesgo que pueda surgir debido al orden en que los datos fueron originalmente almacenados o recogidos.\n",
    "\n",
    " >*   ___Distribución Uniforme de Clases:___ Es crucial especialmente en conjuntos de datos clasificados como MNIST, donde las clases (dígitos del 0 al 9) deben estar igualmente representadas en cada subconjunto de datos para evitar sesgos en el entrenamiento del modelo. El barajado asegura que todas las clases estén mezcladas de manera aleatoria y distribuidas uniformemente entre los conjuntos de entrenamiento y validación.\n",
    "\n",
    " >*   ___Prevención del Sobreajuste:___ Barajar los datos antes de la partición también ayuda a prevenir el sobreajuste. Sin barajado, podrías terminar con particiones que no contienen variaciones representativas de los datos, haciendo que el modelo aprenda patrones específicos del conjunto de entrenamiento que no generalizan bien a datos nuevos."
   ]
  },
  {
   "cell_type": "markdown",
   "metadata": {
    "id": "95gH_soy3w3l"
   },
   "source": [
    "### ___Justificación de la Partición de los Datos___\n",
    "---\n",
    "> La partición de los datos en conjuntos de entrenamiento y validación tiene su propia importancia:\n",
    "\n",
    ">*    ___Evaluación Independiente:___ Al separar un conjunto de validación del conjunto de entrenamiento, podemos evaluar el rendimiento del modelo de manera independiente durante el proceso de entrenamiento. Esto proporciona una estimación honesta de cómo el modelo podría comportarse en el conjunto de prueba y, eventualmente, en datos reales no vistos.\n",
    "\n",
    ">*    ___Afinamiento del Modelo:___ El conjunto de validación se puede utilizar para ajustar los parámetros del modelo, seleccionar características, y hacer decisiones de diseño sin comprometer la integridad del conjunto de prueba. Esto asegura que las mejoras en el modelo se deben a verdaderas mejoras en la capacidad predictiva y no a un ajuste a las peculiaridades específicas del conjunto de prueba.\n",
    "\n",
    ">*    ___Control del Sobreajuste:___ La partición permite monitorear si el modelo está empezando a sobreajustarse al conjunto de entrenamiento. Observando el rendimiento tanto en el conjunto de entrenamiento como en el de validación, podemos tomar medidas si vemos que el rendimiento en el conjunto de validación comienza a decaer mientras que el rendimiento en el conjunto de entrenamiento sigue mejorando."
   ]
  },
  {
   "cell_type": "code",
   "execution_count": null,
   "metadata": {
    "id": "WTrL3-njCuWg"
   },
   "outputs": [],
   "source": [
    "sample_images = train_data.head(10).to_numpy()\n",
    "sample_labels = train_labels.head(10).to_numpy()"
   ]
  },
  {
   "cell_type": "code",
   "execution_count": null,
   "metadata": {
    "id": "62f-VNk_B2DC"
   },
   "outputs": [],
   "source": [
    "def plot_sample_images(images, labels, num_rows=1, num_cols=10):\n",
    "    fig, axes = plt.subplots(num_rows, num_cols, figsize=(1.5 * num_cols, 2 * num_rows))\n",
    "    for i, ax in enumerate(axes.flat):\n",
    "        ax.imshow(images[i].reshape(28, 28), cmap='binary')\n",
    "        ax.set_title(f\"Label: {labels[i]}\")\n",
    "        ax.axis('off')\n",
    "    plt.tight_layout()\n",
    "    plt.show()"
   ]
  },
  {
   "cell_type": "code",
   "execution_count": null,
   "metadata": {
    "colab": {
     "base_uri": "https://localhost:8080/",
     "height": 191
    },
    "id": "QWn2Zb4OB3Ti",
    "outputId": "de5f2988-7e4d-4cf0-ccd9-e4aa3ebcb4ed"
   },
   "outputs": [
    {
     "data": {
      "image/png": "[encoded data removed]",
      "text/plain": [
       "<Figure size 1500x200 with 10 Axes>"
      ]
     },
     "metadata": {},
     "output_type": "display_data"
    }
   ],
   "source": [
    "# Llamar a la función para visualizar las imágenes\n",
    "plot_sample_images(sample_images, sample_labels)"
   ]
  },
  {
   "cell_type": "markdown",
   "metadata": {
    "id": "CUlVBKE8WZfA"
   },
   "source": [
    "### ___Justificación Selección de Muestras para Verificación Rápida___\n",
    "---\n",
    "> ___Selección de Muestras para Confirmación Post-Barajado:___\n",
    " *   Propósito: Extraer las primeras 10 imágenes y sus etiquetas correspondientes después de barajar asegura una verificación rápida para confirmar que el proceso de barajado se ha realizado correctamente. Al convertir estas muestras en arrays de NumPy, se facilita su manipulación para procesos de visualización.\n",
    "\n",
    "> ___Visualización para Verificación de Correspondencia:___\n",
    "*    Propósito: La función plot_sample_images está diseñada para mostrar claramente las imágenes junto con sus etiquetas, lo que es esencial para verificar que cada imagen todavía corresponde a su etiqueta correcta después del barajado. Esto es crucial para asegurar que el proceso de barajado no haya desalineado las imágenes de sus etiquetas, lo cual podría afectar negativamente el rendimiento del modelo de aprendizaje automático."
   ]
  },
  {
   "cell_type": "markdown",
   "metadata": {
    "id": "NNcQ8tSz4xv5"
   },
   "source": [
    "# ___Punto 4 : Implementación del Algoritmo de entrenamiento___\n",
    "---\n",
    "> Utilizará máquinas de vectores de apoyo lineales para clasificar el conjunto de datos. En el caso de las\n",
    "imágenes, utilizará las características más sencillas para la clasificación: los valores brutos de brillo de los\n",
    "píxeles. En otras palabras, el vector de características para una imagen será un vector de filas con todos los\n",
    "valores de píxeles concatenados en un orden de fila mayor (o columna mayor).\n",
    "\n",
    "> Utilice la precisión de la clasificación, o el porcentaje de ejemplos clasificados correctamente, como medida del\n",
    "rendimiento del clasificador\n",
    "\n",
    ">Entrene una máquina lineal de vectores de soporte (SVM). Trace la precisión en los conjuntos de entrenamiento\n",
    "y validación frente al número de ejemplos de entrenamiento que utilizó para entrenar su clasificador. El n úmero\n",
    "de ejemplos de entrenamiento a utilizar se enumeran para cada conjunto de datos en las siguientes partes.\n",
    "\n",
    ">Puede utilizar sklearn sólo para el modelo SVM y la función sklearn.metrics.accuracy_score. Todo lo demás\n",
    "(generar gráficos) debe hacerse sin utilizar sklearn\n"
   ]
  },
  {
   "cell_type": "markdown",
   "metadata": {
    "id": "rkAZ9RMnFgIR"
   },
   "source": [
    "## ___Entrenamiento del Modelo SVM___\n",
    "---\n",
    ">* Utilice píxeles en bruto como características. Entrene su modelo con los siguientes números de\n",
    "ejemplos de entrenamiento: 100, 200, 500, 1,000, 2,000, 5,000, 10,000. Para el conjunto de\n",
    "entrenamiento más grande, se esperan precisiones de validación de entre el 70% y el 90%."
   ]
  },
  {
   "cell_type": "code",
   "execution_count": null,
   "metadata": {
    "id": "dYlIbDgLFAds"
   },
   "outputs": [],
   "source": [
    "def train_svm_classifier(train_data, train_labels, valid_data, valid_labels, training_sizes):\n",
    "    train_accuracies = []\n",
    "    valid_accuracies = []\n",
    "\n",
    "    # Convertir DataFrames a arrays de NumPy si aún no están convertidos\n",
    "    train_data_np = train_data.to_numpy()\n",
    "    train_labels_np = train_labels.values.ravel()\n",
    "    valid_data_np = valid_data.to_numpy()\n",
    "    valid_labels_np = valid_labels.values.ravel()\n",
    "\n",
    "    for size in training_sizes:\n",
    "        svm_classifier = SVC(kernel='linear')\n",
    "        svm_classifier.fit(train_data_np[:size], train_labels_np[:size])\n",
    "\n",
    "        # Precisión en el conjunto de entrenamiento\n",
    "        train_accuracy = accuracy_score(train_labels_np[:size], svm_classifier.predict(train_data_np[:size]))\n",
    "        train_accuracies.append(train_accuracy)\n",
    "\n",
    "        # Precisión en el conjunto de validación\n",
    "        valid_accuracy = accuracy_score(valid_labels_np, svm_classifier.predict(valid_data_np))\n",
    "        valid_accuracies.append(valid_accuracy)\n",
    "\n",
    "    return training_sizes, train_accuracies, valid_accuracies"
   ]
  },
  {
   "cell_type": "markdown",
   "metadata": {
    "id": "aZ70LTUIFe6s"
   },
   "source": [
    "## ___Gráfico precisión___\n",
    "---\n",
    ">* Incluya un gráfico que muestre la cantidad de ejemplos frente a la precisión de entrenamiento y\n",
    "validación para el conjunto de datos."
   ]
  },
  {
   "cell_type": "code",
   "execution_count": null,
   "metadata": {
    "id": "DpGxuOmQFd9S"
   },
   "outputs": [],
   "source": [
    "def plot_accuracies(training_sizes, train_accuracies, valid_accuracies):\n",
    "    plt.figure(figsize=(18, 4))\n",
    "    plt.plot(training_sizes, train_accuracies, label='Precisión de Entrenamiento', marker='o')\n",
    "    plt.plot(training_sizes, valid_accuracies, label='Precisión de Validación', marker='x')\n",
    "    plt.title('Precisión del SVM Lineal en función del Tamaño de Muestra de Entrenamiento')\n",
    "    plt.xlabel('Número de Ejemplos de Entrenamiento')\n",
    "    plt.ylabel('Precisión')\n",
    "    plt.legend()\n",
    "    plt.grid(True)\n",
    "    plt.xticks(training_sizes, rotation=50)  # Rotar las etiquetas del eje x 45 grados\n",
    "    plt.yticks(np.arange(0.5, 1.05, 0.05))\n",
    "    plt.show()"
   ]
  },
  {
   "cell_type": "code",
   "execution_count": null,
   "metadata": {
    "colab": {
     "base_uri": "https://localhost:8080/"
    },
    "id": "XldWqz8bGKBT",
    "outputId": "0c157996-a7f2-4782-91b8-21378ee168c2"
   },
   "outputs": [
    {
     "name": "stdout",
     "output_type": "stream",
     "text": [
      "Tamaño de muestra: 100, Precisión de Entrenamiento: 1.0000, Precisión de Validación: 0.7300\n",
      "Tamaño de muestra: 200, Precisión de Entrenamiento: 1.0000, Precisión de Validación: 0.8133\n",
      "Tamaño de muestra: 500, Precisión de Entrenamiento: 1.0000, Precisión de Validación: 0.8679\n",
      "Tamaño de muestra: 1000, Precisión de Entrenamiento: 1.0000, Precisión de Validación: 0.8804\n",
      "Tamaño de muestra: 2000, Precisión de Entrenamiento: 1.0000, Precisión de Validación: 0.8954\n",
      "Tamaño de muestra: 5000, Precisión de Entrenamiento: 1.0000, Precisión de Validación: 0.9046\n",
      "Tamaño de muestra: 10000, Precisión de Entrenamiento: 0.9968, Precisión de Validación: 0.9134\n"
     ]
    }
   ],
   "source": [
    "# Asumiendo que las variables de datos ya están definidas:\n",
    "training_sizes = [100, 200, 500, 1000, 2000, 5000, 10000]\n",
    "\n",
    "# Entrenar el clasificador SVM y obtener precisiones\n",
    "training_sizes, train_accuracies, valid_accuracies = train_svm_classifier(\n",
    "    train_data, train_labels, valid_data, valid_labels, training_sizes)\n",
    "\n",
    "# Imprimir las precisiones obtenidas\n",
    "for size, train_acc, valid_acc in zip(training_sizes, train_accuracies, valid_accuracies):\n",
    "    print(f\"Tamaño de muestra: {size}, Precisión de Entrenamiento: {train_acc:.4f}, Precisión de Validación: {valid_acc:.4f}\")"
   ]
  },
  {
   "cell_type": "code",
   "execution_count": null,
   "metadata": {
    "colab": {
     "base_uri": "https://localhost:8080/",
     "height": 439
    },
    "id": "e3DeSZaeTiPB",
    "outputId": "9d2a3608-86d6-4220-9017-0283ab99f0b6"
   },
   "outputs": [
    {
     "data": {
      "image/png": "[encoded data removed]",
      "text/plain": [
       "<Figure size 1800x400 with 1 Axes>"
      ]
     },
     "metadata": {},
     "output_type": "display_data"
    }
   ],
   "source": [
    "plot_accuracies(training_sizes, train_accuracies, valid_accuracies)"
   ]
  },
  {
   "cell_type": "markdown",
   "metadata": {
    "id": "JddQNN7lTIOJ"
   },
   "source": [
    "### ___Justificación Preparación y Entrenamiento del Modelo___\n",
    "---\n",
    "\n",
    "> ___Función train_svm_classifier: Preparación y Entrenamiento del Modelo___\n",
    "*    Propósito: Esta función se encarga de entrenar un clasificador SVM lineal utilizando tamaños de muestra progresivamente mayores del conjunto de datos de entrenamiento. Se convierten los DataFrames a arrays de NumPy para compatibilidad con scikit-learn y para facilitar operaciones de índice y cálculos.\n",
    "*    Justificación: El entrenamiento progresivo permite evaluar cómo afecta la cantidad de datos al rendimiento del modelo, proporcionando insights sobre el aprendizaje del modelo y la generalización. La conversión a NumPy es crucial para evitar problemas de compatibilidad y mejorar el rendimiento computacional durante el entrenamiento del modelo.\n",
    "\n",
    "> ___Cálculo de Precisión en los Conjuntos de Entrenamiento y Validación___\n",
    "*    Propósito: Dentro de la misma función, se calcula y almacena la precisión del modelo tanto en el conjunto de entrenamiento como en el de validación para cada tamaño de muestra especificado.\n",
    "*    Justificación: Medir la precisión en ambos conjuntos permite identificar si el modelo está sobreajustando (si la precisión en el conjunto de entrenamiento es mucho más alta que en el de validación). Este seguimiento es esencial para optimizar el modelo y asegurar que sea robusto y fiable.\n",
    "\n",
    "> ___Función plot_accuracies: Visualización de Resultados___\n",
    "*    Propósito: Esta función grafica las precisiones de entrenamiento y validación en función del tamaño de la muestra de entrenamiento. Las etiquetas del eje x son rotadas para mejorar la legibilidad, especialmente con muchos puntos de datos.\n",
    "*    Justificación: La visualización efectiva de los resultados es crucial para interpretar el comportamiento del modelo a medida que cambia el tamaño del conjunto de entrenamiento. Rotar las etiquetas mejora la claridad y facilita la interpretación rápida de los datos, lo cual es especialmente útil en presentaciones o análisis detallados.\n",
    "\n",
    "> ___Ejecución y Visualización de Resultados___\n",
    "*    Propósito: Finalmente, el código ejecuta la función de entrenamiento y luego usa la función de visualización para mostrar los resultados, además de imprimir cada precisión obtenida.\n",
    "*    Justificación: Ejecutar estas funciones y visualizar los resultados proporciona una comprensión completa del impacto del tamaño del conjunto de entrenamiento en la precisión del modelo. Imprimir las precisiones da una referencia inmediata sobre el rendimiento y es útil para documentación o análisis posterior."
   ]
  },
  {
   "cell_type": "markdown",
   "metadata": {
    "id": "wplR0Mjmepsp"
   },
   "source": [
    "# ___Conclusiones Detalladas del Proceso desde la Carga del Archivo hasta la Evaluación con el Conjunto de Datos de Prueba___\n",
    "---\n",
    "\n",
    ">* El uso del conjunto de datos de prueba en proyectos de clasificación del MNIST abarca varias etapas críticas del proceso de aprendizaje automático, comenzando por la carga inicial de datos y culminando en la evaluación final del modelo. Las etapas clave incluyen:\n",
    "\n",
    ">    ___Carga de Datos y Preparación Inicial:___\n",
    "*        La carga efectiva del conjunto de datos MNIST marca el comienzo del proceso de análisis de datos. Es crucial garantizar que la carga de datos se realice de manera que preserve la integridad y la estructura del conjunto de datos, lo que permite un manejo eficiente y un preprocesamiento adecuado. La revisión de la correcta carga y formato de los datos es fundamental para evitar complicaciones en las etapas de procesamiento y análisis subsiguientes.\n",
    "\n",
    ">    ___Exploración y Preprocesamiento de Datos:___\n",
    "*        Tras la carga, se realiza una exploración de los datos para identificar características clave, distribuciones y posibles anomalías. Este paso es esencial para comprender la naturaleza de los datos y para determinar las necesidades de preprocesamiento como la normalización, escalado o manipulaciones específicas que puedan ser necesarias para optimizar el rendimiento del modelo.\n",
    "\n",
    ">    ___División de Datos en Conjuntos de Entrenamiento, Validación y Prueba:___\n",
    "*        La división adecuada de los datos en conjuntos de entrenamiento, validación y prueba es crucial para un desarrollo de modelo equilibrado. El conjunto de entrenamiento permite al modelo aprender las características de los datos, mientras que el conjunto de validación ayuda a afinar los hiperparámetros y a realizar ajustes iterativos. El conjunto de prueba, siendo independiente, es vital para evaluar cómo el modelo entrenado generaliza a nuevos datos.\n",
    "\n",
    ">    ____Entrenamiento y Ajuste del Modelo:____\n",
    "*        El proceso de entrenamiento ajusta el modelo a los datos, mientras que la fase de ajuste de hiperparámetros optimiza su configuración. Estas etapas son cruciales para el desarrollo de un modelo robusto y eficiente. Durante estas fases, es esencial monitorizar el rendimiento del modelo para asegurar que no se produzca sobreajuste y para garantizar que el modelo mantiene una buena capacidad de generalización.\n",
    "\n",
    ">    ___Evaluación Final Usando el Conjunto de Datos de Prueba:___\n",
    "*        La evaluación final del modelo se realiza utilizando el conjunto de datos de prueba. Esta evaluación es decisiva, ya que proporciona una métrica objetiva del rendimiento del modelo en datos no vistos. La precisión, junto con otras métricas evaluadas en esta fase, es fundamental para determinar la viabilidad y eficacia del modelo en tareas de clasificación realistas.\n",
    "\n",
    "---\n",
    "# ___Conclusión General___\n",
    "---\n",
    ">* El flujo completo desde la carga de datos hasta la evaluación final utilizando el conjunto de datos de prueba subraya la importancia de cada paso en el proceso de desarrollo del modelo. Este enfoque estructurado asegura que los modelos de aprendizaje automático sean desarrollados de manera que no solo sean precisos, sino también robustos y capaces de generalizar bien más allá de los datos de entrenamiento. La correcta implementación de estos pasos es esencial para el éxito en la clasificación automatizada de dígitos y otras tareas de clasificación similares, garantizando que los sistemas desarrollados sean confiables y efectivos en aplicaciones prácticas."
   ]
  },
  {
   "cell_type": "markdown",
   "metadata": {
    "id": "W5pNJsJmoc1s"
   },
   "source": [
    "# ___Recursos___\n",
    "---\n",
    ">* rarfile - RAR archive reader for Python — RarFile documentation. (s/f).\n",
    "Readthedocs.Io.\n",
    "Recuperado el 29 de abril de 2024, de https://rarfile.readthedocs.io/\n",
    "Python Packaging User Guide. (s/f). Python.org. Recuperado el 29 de abril de 2024, de\n",
    "https://packaging.python.org/en/latest/\n",
    "* Version handling - packaging. (s/f). Pypa.Io. Recuperado el 29 de abril de 2024, de\n",
    "https://packaging.pypa.io/en/latest/version.html\n",
    "* sys — Parámetros y funciones específicos del sistema. (s/f). Python documentation.\n",
    "Recuperado el 29 de abril de 2024, de https://docs.python.org/es/3/library/sys.html\n",
    "* os — Miscellaneous operating system interfaces. (s/f). Python Documentation. Recuperado\n",
    "el 29 de abril de 2024, de https://docs.python.org/3/library/os.html\n",
    "Requests: HTTP for humansTM — requests 2.31.0 documentation. (s/f). Readthedocs.Io.\n",
    "* Recuperado el 29 de abril de 2024, de https://requests.readthedocs.io/en/latest/\n",
    "* NumPy Documentation. (s/f). Numpy.org. Recuperado el 29 de abril de 2024, de\n",
    "https://numpy.org/doc/\n",
    "Pandas documentation — pandas 2.2.2 documentation. (s/f). Pydata.org. Recuperado el 29\n",
    "de abril de 2024, de https://pandas.pydata.org/docs/\n",
    "* matplotlib.pyplot — Matplotlib 3.5.3 documentation. (s/f). Matplotlib.org. Recuperado el 29\n",
    "de abril de 2024, de https://matplotlib.org/3.5.3/api/_as_gen/matplotlib.pyplot.html\n",
    "* Sklearn.Svm.SVC. (s/f). Scikit-Learn. Recuperado el 29 de abril de 2024, de\n",
    "https://scikit-learn.org/stable/modules/generated/sklearn.svm.SVC.html\n",
    "* Sklearn.Metrics.Accuracy_score. (s/f). Scikit-Learn. Recuperado el 29 de abril de 2024, de\n",
    "https://scikit-learn.org/stable/modules/generated/sklearn.metrics.accuracy_score.html\n",
    "* Pinzón, D. & Oviedo, D. & Thomas, M. (2024). Parcial Machine Learning. Google Colab.\n",
    "https://colab.research.google.com/drive/1e-VFWyIaZe_aIhtKaSpAFdw180PqpMfK?u\n",
    "sp=sharing"
   ]
  }
 ],
 "metadata": {
  "colab": {
   "provenance": []
  },
  "kernelspec": {
   "display_name": "Python 3",
   "name": "python3"
  },
  "language_info": {
   "name": "python"
  }
 },
 "nbformat": 4,
 "nbformat_minor": 0
}
